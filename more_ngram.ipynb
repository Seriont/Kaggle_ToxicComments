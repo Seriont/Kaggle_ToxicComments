{
 "cells": [
  {
   "cell_type": "code",
   "execution_count": 1,
   "metadata": {
    "collapsed": true
   },
   "outputs": [],
   "source": [
    "import numpy as np\n",
    "import pandas as pd"
   ]
  },
  {
   "cell_type": "code",
   "execution_count": 2,
   "metadata": {
    "collapsed": true
   },
   "outputs": [],
   "source": [
    "import pickle"
   ]
  },
  {
   "cell_type": "code",
   "execution_count": 3,
   "metadata": {
    "collapsed": true
   },
   "outputs": [],
   "source": [
    "from sklearn.feature_extraction.text import TfidfVectorizer\n",
    "from sklearn.linear_model import LogisticRegression\n",
    "from sklearn.model_selection import cross_val_score\n",
    "from scipy.sparse import hstack"
   ]
  },
  {
   "cell_type": "code",
   "execution_count": 4,
   "metadata": {
    "collapsed": true
   },
   "outputs": [],
   "source": [
    "class_names = ['toxic', 'severe_toxic', 'obscene', 'threat', 'insult', 'identity_hate']"
   ]
  },
  {
   "cell_type": "code",
   "execution_count": 5,
   "metadata": {
    "collapsed": true
   },
   "outputs": [],
   "source": [
    "train = pd.read_csv('train.csv').fillna(' ')\n",
    "test = pd.read_csv('test.csv').fillna(' ')"
   ]
  },
  {
   "cell_type": "code",
   "execution_count": 6,
   "metadata": {
    "collapsed": true
   },
   "outputs": [],
   "source": [
    "train_text = train['comment_text']\n",
    "test_text = test['comment_text']\n",
    "all_text = pd.concat([train_text, test_text])"
   ]
  },
  {
   "cell_type": "code",
   "execution_count": 7,
   "metadata": {
    "collapsed": true
   },
   "outputs": [],
   "source": [
    "char_vectorizer = TfidfVectorizer(\n",
    "    sublinear_tf=True,\n",
    "    strip_accents='unicode',\n",
    "    analyzer='char',\n",
    "    stop_words='english',\n",
    "    ngram_range=(3, 6),\n",
    "    max_features=50000)"
   ]
  },
  {
   "cell_type": "code",
   "execution_count": 7,
   "metadata": {},
   "outputs": [
    {
     "data": {
      "text/plain": [
       "TfidfVectorizer(analyzer='char', binary=False, decode_error='strict',\n",
       "        dtype=<class 'numpy.int64'>, encoding='utf-8', input='content',\n",
       "        lowercase=True, max_df=1.0, max_features=50000, min_df=1,\n",
       "        ngram_range=(3, 6), norm='l2', preprocessor=None, smooth_idf=True,\n",
       "        stop_words='english', strip_accents='unicode', sublinear_tf=True,\n",
       "        token_pattern='(?u)\\\\b\\\\w\\\\w+\\\\b', tokenizer=None, use_idf=True,\n",
       "        vocabulary=None)"
      ]
     },
     "execution_count": 7,
     "metadata": {},
     "output_type": "execute_result"
    }
   ],
   "source": [
    "char_vectorizer.fit(all_text)"
   ]
  },
  {
   "cell_type": "code",
   "execution_count": 8,
   "metadata": {
    "collapsed": true
   },
   "outputs": [],
   "source": [
    "import pickle\n",
    "f = open('char_vectorizer.pkl', 'wb')\n",
    "pickle.dump(char_vectorizer, f)\n",
    "f.close()"
   ]
  },
  {
   "cell_type": "code",
   "execution_count": 21,
   "metadata": {},
   "outputs": [
    {
     "data": {
      "text/plain": [
       "{'identity_hate': array([   25,  1483,  2122,  2321,  2322,  2359,  2360,  2362,  2658,\n",
       "         3087,  3297,  3302,  3927,  3933,  6155,  6159,  6160,  6161,\n",
       "         6202,  6301,  7878,  8955,  9457, 11040, 13319, 13343, 20252,\n",
       "        20561, 21082, 21242, 21531, 21665, 21735, 21760, 21761, 21945,\n",
       "        22005, 22377, 23496, 23586, 24200, 24819, 25809, 27083, 29552,\n",
       "        31422, 32453, 32454, 32758, 38792, 40513, 40792, 41977, 42251,\n",
       "        42266, 44267, 45333, 45334, 46302, 46631, 46649, 47197, 49883,\n",
       "        50016, 50070, 50112, 50115, 50377, 50380, 50522, 50627, 50657,\n",
       "        50688, 50707, 50736, 50737, 50744, 50798, 50802, 50860, 50863,\n",
       "        50924, 50930, 50931, 50948, 50959, 50976, 51115, 51130, 51143,\n",
       "        51147, 51158, 51192, 51193, 51280, 51296, 51324, 51325, 51328,\n",
       "        51341, 51361, 51370, 51411, 51445, 51446, 51448, 51454, 51537,\n",
       "        51550, 51559, 51560, 51617, 51675, 51696, 51838, 51841, 51842,\n",
       "        51906, 51959, 51985, 52083, 52223, 52332, 52390, 52417, 52420,\n",
       "        52499, 52503, 52507, 52535, 52547, 52551, 52585, 52598, 52666,\n",
       "        52667, 52789, 52803, 52811, 52812, 52814, 52823, 52845, 52857,\n",
       "        52898, 52904, 52915, 52975, 52998, 53041, 53075, 53076, 53085,\n",
       "        53109, 53140, 53145, 53146, 53312, 53380, 53491, 53497, 53515,\n",
       "        53517, 53519, 53534, 53570, 53576, 53620, 53658, 53659, 53746,\n",
       "        53824, 53846, 53861, 53863, 53865, 53866, 53869, 53870, 53905,\n",
       "        53944, 53947, 54014, 54052, 54164, 54165, 54169, 54249, 54252,\n",
       "        54253, 54259, 54298, 54301, 54302, 54305, 54316, 54319, 54359,\n",
       "        54361, 54375, 54388, 54403, 54404, 54405, 54458, 54463, 54484,\n",
       "        54522, 54524, 54527, 54541, 54580, 54646, 54690, 54856, 54871,\n",
       "        54877, 54882, 54883, 54885, 54905, 54922, 54946, 54948, 54951,\n",
       "        55072, 55147, 55149, 55250, 55286, 55293, 55304, 55308, 55334,\n",
       "        55351, 55352, 55395, 55409, 55448, 55457, 55489, 55503, 55609,\n",
       "        55611, 55661, 55705, 55706, 55737, 55826, 55830, 55838, 55845,\n",
       "        55846, 55879, 55882, 55883, 55908, 55938, 55939, 55950, 55963,\n",
       "        55971, 55992, 55993, 56010, 56020, 56041, 56069, 56072, 56074,\n",
       "        56077, 56089, 56128, 56237, 56254, 56258, 56346, 56418, 56513,\n",
       "        56539, 56540, 56554, 56562, 56595, 56665, 56668, 56669, 56702,\n",
       "        56715, 56758, 56773, 56914, 57031, 57141, 57166, 57178, 57179,\n",
       "        57224, 57225, 57234, 57261, 57279, 57431, 57445, 57457, 57581,\n",
       "        57582, 57658, 57722, 57770, 57771, 57778, 57783, 57811, 57837,\n",
       "        57838, 57901, 57940, 57958, 58058, 58091, 58192, 58195, 58214,\n",
       "        58217, 58299, 58351, 58467, 58476, 58541, 58585, 58589, 58654,\n",
       "        58686, 58747, 58752, 58836, 58847, 58848, 58871, 58873, 58876,\n",
       "        58955, 59074, 59140, 59145, 59153, 59172, 59179, 59184, 59221,\n",
       "        59232, 59323, 59369, 59391, 59396, 59413, 59486, 59535, 59554,\n",
       "        59556, 59595, 59626, 59647, 59655, 59656, 59678, 59711, 59733,\n",
       "        59734, 59743, 59754, 59762, 59766, 59774, 59791, 59805, 59816,\n",
       "        59825, 59834]),\n",
       " 'insult': array([   25,   183,   325, ..., 59822, 59825, 59834]),\n",
       " 'obscene': array([  325,   368,   719,   912,   973,  1202,  1226,  1349,  1662,\n",
       "         1680,  1779,  1902,  2070,  2111,  2122,  2321,  2406,  2538,\n",
       "         2710,  2872,  2873,  3297,  3649,  4019,  4430,  4431,  4469,\n",
       "         4630,  4632,  4685,  4940,  5248,  6272,  6297,  6301,  6714,\n",
       "         6756,  7042,  7390,  7570,  7841,  7846,  7878,  7907,  7908,\n",
       "         8629,  8630,  8639,  8952,  9079,  9457,  9459,  9798,  9799,\n",
       "        10030, 11040, 11293, 11309, 11328, 11985, 12288, 12289, 12533,\n",
       "        12534, 13343, 13441, 13581, 13784, 13975, 13976, 14520, 14748,\n",
       "        15155, 15230, 15232, 15529, 15530, 15807, 17235, 17624, 17875,\n",
       "        18659, 18666, 18703, 20546, 20561, 20563, 20700, 21082, 21083,\n",
       "        21100, 21714, 21760, 21761, 21945, 22005, 22378, 22595, 22991,\n",
       "        23496, 23532, 23571, 24424, 24431, 24610, 24617, 24618, 24819,\n",
       "        25422, 25467, 25809, 25941, 26703, 26704, 27232, 27295, 27471,\n",
       "        27512, 28755, 30535, 30536, 30822, 31429, 32453, 32454, 32641,\n",
       "        34075, 34076, 34347, 34348, 34520, 36451, 36476, 37213, 37335,\n",
       "        37372, 37886, 38792, 39297, 40660, 41328, 41479, 41807, 41977,\n",
       "        42042, 42684, 42865, 43066, 43067, 43068, 43100, 43209, 43210,\n",
       "        43297, 43501, 43549, 43611, 43806, 44006, 44267, 44332, 44838,\n",
       "        46180, 46181, 46187, 46317, 46514, 46631, 46653, 46834, 46855,\n",
       "        46856, 46905, 47005, 47168, 47316, 47786, 48538, 48631, 49034,\n",
       "        49217, 49671, 49786, 49832, 50016, 50041, 50044, 50046, 50058,\n",
       "        50071, 50096, 50100, 50109, 50112, 50120, 50127, 50128, 50231,\n",
       "        50234, 50255, 50262, 50264, 50289, 50308, 50316, 50325, 50330,\n",
       "        50336, 50340, 50350, 50357, 50360, 50366, 50368, 50380, 50396,\n",
       "        50411, 50416, 50449, 50479, 50507, 50522, 50527, 50528, 50530,\n",
       "        50546, 50555, 50627, 50635, 50657, 50701, 50744, 50802, 50809,\n",
       "        50858, 50906, 50924, 50925, 50929, 50930, 50931, 50951, 50952,\n",
       "        50953, 50959, 50970, 50976, 50977, 50990, 50999, 51026, 51085,\n",
       "        51090, 51106, 51130, 51143, 51147, 51178, 51180, 51192, 51193,\n",
       "        51194, 51248, 51276, 51292, 51324, 51325, 51328, 51329, 51343,\n",
       "        51362, 51370, 51371, 51372, 51398, 51410, 51411, 51430, 51431,\n",
       "        51445, 51446, 51448, 51493, 51545, 51548, 51550, 51557, 51572,\n",
       "        51574, 51581, 51600, 51651, 51654, 51675, 51687, 51707, 51735,\n",
       "        51777, 51810, 51817, 51900, 51906, 51907, 51908, 51919, 51966,\n",
       "        51985, 51988, 51992, 52038, 52044, 52047, 52052, 52057, 52063,\n",
       "        52083, 52151, 52210, 52223, 52254, 52278, 52296, 52297, 52301,\n",
       "        52409, 52417, 52498, 52499, 52503, 52540, 52551, 52552, 52563,\n",
       "        52616, 52666, 52667, 52669, 52670, 52684, 52745, 52764, 52803,\n",
       "        52804, 52805, 52811, 52814, 52837, 52845, 52857, 52860, 52898,\n",
       "        52904, 52998, 53010, 53011, 53070, 53075, 53076, 53101, 53138,\n",
       "        53139, 53140, 53143, 53243, 53271, 53287, 53391, 53490, 53491,\n",
       "        53497, 53499, 53505, 53511, 53515, 53517, 53519, 53521, 53533,\n",
       "        53534, 53536, 53548, 53564, 53576, 53582, 53585, 53591, 53603,\n",
       "        53608, 53627, 53629, 53638, 53651, 53658, 53659, 53687, 53694,\n",
       "        53701, 53736, 53746, 53747, 53807, 53824, 53846, 53859, 53861,\n",
       "        53865, 53870, 53876, 53880, 53900, 53905, 53933, 53944, 54006,\n",
       "        54016, 54040, 54045, 54050, 54052, 54053, 54064, 54087, 54163,\n",
       "        54164, 54165, 54169, 54181, 54185, 54187, 54188, 54218, 54223,\n",
       "        54226, 54249, 54265, 54280, 54295, 54301, 54302, 54305, 54314,\n",
       "        54316, 54319, 54321, 54375, 54381, 54399, 54403, 54404, 54420,\n",
       "        54453, 54481, 54522, 54524, 54527, 54551, 54552, 54559, 54698,\n",
       "        54740, 54749, 54794, 54835, 54840, 54905, 54907, 54908, 54939,\n",
       "        54940, 54946, 54948, 54951, 54954, 54964, 55017, 55025, 55064,\n",
       "        55072, 55089, 55105, 55107, 55111, 55157, 55161, 55185, 55195,\n",
       "        55214, 55250, 55255, 55286, 55293, 55304, 55319, 55325, 55336,\n",
       "        55337, 55351, 55352, 55357, 55395, 55397, 55398, 55409, 55410,\n",
       "        55416, 55435, 55448, 55450, 55471, 55473, 55489, 55501, 55503,\n",
       "        55522, 55583, 55589, 55605, 55617, 55653, 55660, 55663, 55665,\n",
       "        55683, 55689, 55693, 55819, 55826, 55845, 55869, 55871, 55898,\n",
       "        55925, 55938, 55950, 55971, 55992, 55993, 56010, 56029, 56041,\n",
       "        56060, 56069, 56072, 56074, 56077, 56084, 56128, 56134, 56171,\n",
       "        56178, 56248, 56254, 56258, 56262, 56346, 56406, 56416, 56418,\n",
       "        56420, 56441, 56454, 56489, 56503, 56513, 56539, 56554, 56562,\n",
       "        56594, 56649, 56662, 56665, 56668, 56681, 56682, 56691, 56742,\n",
       "        56772, 56773, 56784, 56813, 56815, 56913, 57030, 57097, 57098,\n",
       "        57118, 57119, 57141, 57156, 57166, 57178, 57224, 57225, 57229,\n",
       "        57328, 57346, 57376, 57484, 57485, 57490, 57505, 57509, 57581,\n",
       "        57583, 57611, 57639, 57641, 57654, 57658, 57746, 57757, 57764,\n",
       "        57765, 57778, 57783, 57812, 57835, 57837, 57838, 57889, 57901,\n",
       "        57902, 57922, 57927, 57935, 57956, 57957, 57967, 58003, 58017,\n",
       "        58023, 58025, 58031, 58047, 58058, 58064, 58086, 58091, 58096,\n",
       "        58107, 58112, 58119, 58157, 58158, 58213, 58214, 58237, 58276,\n",
       "        58278, 58286, 58299, 58301, 58413, 58422, 58428, 58430, 58458,\n",
       "        58461, 58467, 58476, 58487, 58530, 58539, 58541, 58542, 58583,\n",
       "        58584, 58588, 58589, 58597, 58604, 58637, 58654, 58683, 58692,\n",
       "        58721, 58726, 58746, 58747, 58752, 58756, 58780, 58812, 58813,\n",
       "        58820, 58871, 58873, 58876, 58891, 58902, 58903, 58915, 58924,\n",
       "        58969, 58974, 58983, 59015, 59119, 59143, 59153, 59172, 59179,\n",
       "        59203, 59209, 59232, 59258, 59323, 59335, 59336, 59344, 59346,\n",
       "        59351, 59357, 59359, 59369, 59381, 59393, 59395, 59413, 59477,\n",
       "        59485, 59488, 59553, 59554, 59555, 59556, 59557, 59560, 59582,\n",
       "        59595, 59618, 59626, 59655, 59667, 59678, 59696, 59698, 59734,\n",
       "        59751, 59754, 59774, 59785, 59791, 59804, 59805, 59816, 59821,\n",
       "        59822, 59825, 59834, 59848]),\n",
       " 'severe_toxic': array([ 1202,  2122,  2240,  3819,  3933,  5374,  6160,  6201,  6272,\n",
       "         6297,  6301,  6308,  6757,  7042,  7388,  7390,  8538, 11040,\n",
       "        11189, 13343, 13365, 13396, 13402, 13441, 13442, 13444, 13580,\n",
       "        13581, 17496, 19095, 19169, 20561, 21082, 21100, 21242, 21711,\n",
       "        21945, 22380, 23210, 23496, 24424, 25809, 27298, 27303, 27419,\n",
       "        27471, 27476, 27477, 27512, 29553, 30356, 30357, 30358, 32453,\n",
       "        32454, 34076, 34347, 36209, 36252, 36253, 41634, 42042, 43102,\n",
       "        43447, 43448, 44267, 44332, 44788, 44838, 45066, 45334, 46317,\n",
       "        46371, 46511, 46512, 46513, 46514, 46631, 47390, 47788, 47789,\n",
       "        49671, 49673, 50093, 50112, 50114, 50284, 50289, 50293, 50367,\n",
       "        50387, 50419, 50449, 50522, 50627, 50636, 50657, 50736, 50744,\n",
       "        50802, 50924, 50930, 50951, 50959, 50976, 50977, 51090, 51143,\n",
       "        51147, 51192, 51193, 51248, 51277, 51280, 51292, 51325, 51328,\n",
       "        51361, 51371, 51448, 51550, 51559, 51567, 51572, 51584, 51621,\n",
       "        51779, 51838, 51873, 51906, 51907, 51985, 51988, 51990, 52044,\n",
       "        52140, 52397, 52410, 52498, 52499, 52503, 52535, 52537, 52551,\n",
       "        52563, 52589, 52598, 52663, 52667, 52669, 52803, 52804, 52805,\n",
       "        52811, 52814, 52857, 52974, 53010, 53075, 53076, 53085, 53119,\n",
       "        53122, 53138, 53491, 53497, 53499, 53505, 53506, 53511, 53515,\n",
       "        53517, 53570, 53576, 53603, 53659, 53824, 53844, 53859, 53861,\n",
       "        53863, 53864, 53865, 53869, 53870, 53876, 53905, 53944, 53955,\n",
       "        53990, 53994, 53999, 54012, 54017, 54046, 54052, 54126, 54141,\n",
       "        54165, 54169, 54188, 54210, 54249, 54265, 54301, 54305, 54316,\n",
       "        54319, 54321, 54361, 54370, 54381, 54399, 54403, 54420, 54522,\n",
       "        54524, 54536, 54551, 54698, 54939, 54948, 55004, 55017, 55025,\n",
       "        55071, 55072, 55085, 55090, 55147, 55178, 55286, 55287, 55293,\n",
       "        55325, 55334, 55351, 55352, 55357, 55387, 55395, 55398, 55409,\n",
       "        55422, 55428, 55435, 55448, 55469, 55588, 55682, 55706, 55737,\n",
       "        55826, 55846, 55869, 55871, 55880, 55883, 55885, 55898, 55921,\n",
       "        55925, 55950, 55992, 56010, 56015, 56029, 56030, 56041, 56071,\n",
       "        56072, 56074, 56087, 56089, 56145, 56171, 56178, 56256, 56258,\n",
       "        56262, 56416, 56418, 56513, 56554, 56562, 56595, 56665, 56666,\n",
       "        56668, 56669, 56681, 56742, 56772, 56773, 56808, 56899, 56913,\n",
       "        57066, 57118, 57119, 57120, 57166, 57224, 57225, 57261, 57282,\n",
       "        57457, 57582, 57658, 57722, 57752, 57775, 57778, 57783, 58017,\n",
       "        58058, 58069, 58091, 58213, 58217, 58223, 58276, 58281, 58286,\n",
       "        58301, 58462, 58463, 58476, 58541, 58587, 58589, 58654, 58685,\n",
       "        58752, 58812, 58871, 58873, 58903, 58974, 59015, 59172, 59179,\n",
       "        59323, 59334, 59338, 59340, 59357, 59388, 59391, 59413, 59552,\n",
       "        59553, 59556, 59584, 59626, 59655, 59721, 59754, 59774, 59791,\n",
       "        59804, 59805, 59817, 59822, 59825, 59835]),\n",
       " 'threat': array([ 2322,  2323,  6074,  6155,  6159,  6160,  6202,  6301,  9091,\n",
       "        13343, 16859, 21082, 21083, 24033, 24040, 24041, 24042, 25008,\n",
       "        25009, 28755, 29553, 36278, 47197, 48702, 49671, 49689, 50449,\n",
       "        50527, 50687, 50798, 50930, 50959, 50976, 51143, 51192, 51215,\n",
       "        51361, 51362, 51370, 51371, 51393, 51559, 51838, 52362, 52522,\n",
       "        52563, 52589, 52598, 52666, 52669, 52743, 52763, 52811, 52814,\n",
       "        52817, 52904, 52974, 52977, 53119, 53497, 53515, 53517, 53576,\n",
       "        53865, 53869, 53870, 53944, 54046, 54052, 54208, 54249, 54265,\n",
       "        54301, 54302, 54305, 54360, 54403, 54420, 54445, 54475, 54527,\n",
       "        54536, 54551, 54907, 54951, 55017, 55064, 55072, 55073, 55076,\n",
       "        55102, 55106, 55293, 55304, 55337, 55352, 55357, 55448, 55485,\n",
       "        55879, 55925, 56416, 57091, 57224, 57225, 57601, 57775, 57778,\n",
       "        57837, 58030, 58058, 58061, 58069, 58079, 58178, 58210, 58221,\n",
       "        58299, 58476, 58541, 58634, 58654, 58686, 58752, 58756, 58855,\n",
       "        58871, 58873, 58902, 58903, 58924, 58932, 59033, 59131, 59172,\n",
       "        59179, 59340, 59568, 59586, 59717, 59721, 59747, 59805, 59825,\n",
       "        59834]),\n",
       " 'toxic': array([   25,   148,   237, ..., 59832, 59834, 59848])}"
      ]
     },
     "execution_count": 21,
     "metadata": {},
     "output_type": "execute_result"
    }
   ],
   "source": [
    "feature_labels"
   ]
  },
  {
   "cell_type": "code",
   "execution_count": 9,
   "metadata": {
    "collapsed": true
   },
   "outputs": [],
   "source": [
    "train_char_features = char_vectorizer.transform(train_text)\n",
    "test_char_features = char_vectorizer.transform(test_text)"
   ]
  },
  {
   "cell_type": "code",
   "execution_count": 10,
   "metadata": {},
   "outputs": [],
   "source": [
    "with open('./identity_hate_train_matrix.pkl', 'rb') as f:\n",
    "    X_train = pickle.load(f)"
   ]
  },
  {
   "cell_type": "code",
   "execution_count": 27,
   "metadata": {
    "collapsed": true
   },
   "outputs": [],
   "source": [
    "with open('./identity_hate_test_matrix.pkl', 'rb') as f:\n",
    "    X_test = pickle.load(f)"
   ]
  },
  {
   "cell_type": "code",
   "execution_count": 9,
   "metadata": {},
   "outputs": [
    {
     "data": {
      "text/plain": [
       "(159571, 380)"
      ]
     },
     "execution_count": 9,
     "metadata": {},
     "output_type": "execute_result"
    }
   ],
   "source": [
    "X_train.shape"
   ]
  },
  {
   "cell_type": "code",
   "execution_count": 13,
   "metadata": {},
   "outputs": [
    {
     "name": "stdout",
     "output_type": "stream",
     "text": [
      "CV score for class toxic is 0.9729069992661149\n",
      "CV score for class severe_toxic is 0.9874013208313278\n",
      "CV score for class obscene is 0.9856102206766034\n",
      "CV score for class threat is 0.9839026965488363\n",
      "CV score for class insult is 0.9798944530250471\n",
      "CV score for class identity_hate is 0.9804904405244007\n",
      "Total CV score is 0.9817010218120551\n"
     ]
    }
   ],
   "source": [
    "scores = []\n",
    "submission = pd.DataFrame.from_dict({'id': test['id']})\n",
    "for class_name in class_names:\n",
    "    train_target = train[class_name]\n",
    "    classifier = LogisticRegression(solver='sag')\n",
    "\n",
    "    cv_score = np.mean(cross_val_score(classifier, train_char_features, train_target, cv=3, scoring='roc_auc'))\n",
    "    scores.append(cv_score)\n",
    "    print('CV score for class {} is {}'.format(class_name, cv_score))\n",
    "\n",
    "    classifier.fit(train_char_features, train_target)\n",
    "    submission[class_name] = classifier.predict_proba(test_char_features)[:, 1]\n",
    "\n",
    "print('Total CV score is {}'.format(np.mean(scores)))\n",
    "\n",
    "submission.to_csv('submission.csv', index=False)"
   ]
  },
  {
   "cell_type": "code",
   "execution_count": 47,
   "metadata": {},
   "outputs": [
    {
     "name": "stdout",
     "output_type": "stream",
     "text": [
      "C values in: [ 0.1  1.   1.5  2.   3.   4.   5.   6.   7.   8.   9.  10. ]\n",
      "CV score for class identity_hate for C = 0.1 is: 0.9731002395994834\n",
      "CV score for class identity_hate for C = 1.0 is: 0.9807745550602197\n",
      "CV score for class identity_hate for C = 1.5 is: 0.9816719456277725\n",
      "CV score for class identity_hate for C = 2.0 is: 0.9821737474152678\n",
      "CV score for class identity_hate for C = 3.0 is: 0.9826243825586761\n",
      "CV score for class identity_hate for C = 4.0 is: 0.9828450520804303\n",
      "CV score for class identity_hate for C = 5.0 is: 0.9829430175194808\n",
      "CV score for class identity_hate for C = 6.0 is: 0.9829779808216407\n",
      "CV score for class identity_hate for C = 7.0 is: 0.9829987047080989\n",
      "CV score for class identity_hate for C = 8.0 is: 0.9829737914196128\n",
      "CV score for class identity_hate for C = 9.0 is: 0.9829386317248304\n",
      "CV score for class identity_hate for C = 10.0 is: 0.982920355112824\n"
     ]
    }
   ],
   "source": [
    "values = np.r_[[0.1, 1.0, 1.5], np.linspace(2.0, 10.0, 9)]\n",
    "print('C values in:', values)\n",
    "for C in values:\n",
    "    train_target = X_train\n",
    "    classifier = LogisticRegression(solver='saga', tol=1e-4, max_iter=200, C=C)\n",
    "\n",
    "    cv_score = np.mean(cross_val_score(classifier, X=train_target, y=train['identity_hate'], cv=3, \n",
    "                                   scoring='roc_auc'))\n",
    "    print('CV score for class identity_hate for C = {} is: {}'.format(C, cv_score))"
   ]
  },
  {
   "cell_type": "code",
   "execution_count": 48,
   "metadata": {},
   "outputs": [
    {
     "name": "stdout",
     "output_type": "stream",
     "text": [
      "Optimal C value is: 7.0\n"
     ]
    }
   ],
   "source": [
    "print('Optimal C value is: 7.0')"
   ]
  },
  {
   "cell_type": "markdown",
   "metadata": {},
   "source": [
    "При больших параметрах C результаты на cv несильно отличаются, так что для остальных классов подбор параметров можно не проводить"
   ]
  },
  {
   "cell_type": "markdown",
   "metadata": {},
   "source": [
    "# ExtraTreesRegression"
   ]
  },
  {
   "cell_type": "code",
   "execution_count": 7,
   "metadata": {
    "collapsed": true
   },
   "outputs": [],
   "source": [
    "from sklearn.ensemble import ExtraTreesRegressor"
   ]
  },
  {
   "cell_type": "code",
   "execution_count": 33,
   "metadata": {},
   "outputs": [
    {
     "name": "stdout",
     "output_type": "stream",
     "text": [
      "CV score for class identity_hate for 5 max_features is 0.9552150309755415\n",
      "CV score for class identity_hate for 10 max_features is 0.9585089574441321\n",
      "CV score for class identity_hate for 15 max_features is 0.9524322778975104\n",
      "CV score for class identity_hate for 20 max_features is 0.9543314804227746\n",
      "CV score for class identity_hate for 25 max_features is 0.9481725652209549\n",
      "CV score for class identity_hate for 30 max_features is 0.9460289821727766\n",
      "CV score for class identity_hate for 35 max_features is 0.9414149441979224\n",
      "CV score for class identity_hate for 40 max_features is 0.9316432086942253\n"
     ]
    }
   ],
   "source": [
    "for num_f in range(5, 41, 5):\n",
    "    train_target = X_train\n",
    "    #classifier = LogisticRegression(solver='sag')\n",
    "    classifier = ExtraTreesRegressor(max_depth=5, max_features=num_f, n_estimators=50)\n",
    "\n",
    "    cv_score = np.mean(cross_val_score(classifier, X=train_target, y=train['identity_hate'], cv=3, \n",
    "                                   scoring='roc_auc'))\n",
    "    print('CV score for class identity_hate for {} max_features is {}'.format(num_f, cv_score))"
   ]
  },
  {
   "cell_type": "code",
   "execution_count": 27,
   "metadata": {},
   "outputs": [
    {
     "name": "stdout",
     "output_type": "stream",
     "text": [
      "CV score for class identity_hate for 3 depth is 0.9493649655148243\n",
      "CV score for class identity_hate for 5 depth is 0.9541263996740131\n",
      "CV score for class identity_hate for 7 depth is 0.9569196968451656\n",
      "CV score for class identity_hate for 9 depth is 0.9621008939014727\n",
      "CV score for class identity_hate for 11 depth is 0.9649993412916351\n",
      "CV score for class identity_hate for 13 depth is 0.9657365016485288\n",
      "CV score for class identity_hate for 15 depth is 0.9672766036873425\n",
      "CV score for class identity_hate for 17 depth is 0.9694513168365363\n",
      "CV score for class identity_hate for 19 depth is 0.9698232591097492\n",
      "CV score for class identity_hate for 21 depth is 0.9703291831269739\n",
      "CV score for class identity_hate for 23 depth is 0.9722308766179198\n",
      "CV score for class identity_hate for 25 depth is 0.9728644167991757\n",
      "CV score for class identity_hate for 27 depth is 0.9700937039487915\n",
      "CV score for class identity_hate for 29 depth is 0.9702557993305173\n"
     ]
    }
   ],
   "source": [
    "for depth in range(3, 30, 2):\n",
    "    train_target = X_train\n",
    "    #classifier = LogisticRegression(solver='sag')\n",
    "    classifier = ExtraTreesRegressor(max_depth=depth, max_features=10, n_estimators=50)\n",
    "\n",
    "    cv_score = np.mean(cross_val_score(classifier, X=train_target, y=train['identity_hate'], cv=3, \n",
    "                                   scoring='roc_auc'))\n",
    "    print('CV score for class identity_hate for {} depth is {}'.format(depth, cv_score))"
   ]
  },
  {
   "cell_type": "markdown",
   "metadata": {},
   "source": [
    "### Roc_auc для n_estimators = 2000: 0.977. Модель показала себя не очень хорошо"
   ]
  },
  {
   "cell_type": "markdown",
   "metadata": {},
   "source": [
    "# Градиентный бустинг (недоделано)"
   ]
  },
  {
   "cell_type": "code",
   "execution_count": 8,
   "metadata": {
    "collapsed": true
   },
   "outputs": [],
   "source": [
    "from sklearn.ensemble import GradientBoostingRegressor"
   ]
  },
  {
   "cell_type": "code",
   "execution_count": 22,
   "metadata": {},
   "outputs": [
    {
     "name": "stdout",
     "output_type": "stream",
     "text": [
      "CV score for class identity_hate for 1 max_features is 0.9549866260616277\n",
      "CV score for class identity_hate for 3 max_features is 0.9611634044493965\n",
      "CV score for class identity_hate for 5 max_features is 0.9607212388121905\n",
      "CV score for class identity_hate for 10 max_features is 0.962324985375722\n",
      "CV score for class identity_hate for 15 max_features is 0.9504973849900216\n",
      "CV score for class identity_hate for 20 max_features is 0.9491200942497932\n"
     ]
    }
   ],
   "source": [
    "for value in [1, 3, 5, 10, 15, 20]:\n",
    "    train_target = X_train\n",
    "    #classifier = LogisticRegression(solver='sag')\n",
    "    classifier = GradientBoostingRegressor(max_depth=5, max_features=value, n_estimators=50)\n",
    "\n",
    "    cv_score = np.mean(cross_val_score(classifier, X=train_target, y=train['identity_hate'], cv=3, \n",
    "                                   scoring='roc_auc'))\n",
    "    print('CV score for class identity_hate for {} max_features is {}'.format(value, cv_score))"
   ]
  },
  {
   "cell_type": "code",
   "execution_count": 24,
   "metadata": {},
   "outputs": [
    {
     "name": "stdout",
     "output_type": "stream",
     "text": [
      "CV score for class identity_hate for 1 max_depth is 0.8996935212875462\n",
      "CV score for class identity_hate for 3 max_depth is 0.9541602448395373\n",
      "CV score for class identity_hate for 5 max_depth is 0.9540233660853575\n",
      "CV score for class identity_hate for 7 max_depth is 0.962598820425725\n",
      "CV score for class identity_hate for 9 max_depth is 0.963011249475989\n",
      "CV score for class identity_hate for 11 max_depth is 0.9651724341287156\n"
     ]
    }
   ],
   "source": [
    "for value in [3, 5, 7, 9, 11, 15]:\n",
    "    train_target = X_train\n",
    "    #classifier = LogisticRegression(solver='sag')\n",
    "    classifier = GradientBoostingRegressor(max_depth=value, max_features=10, n_estimators=50)\n",
    "\n",
    "    cv_score = np.mean(cross_val_score(classifier, X=train_target, y=train['identity_hate'], cv=5, \n",
    "                                   scoring='roc_auc'))\n",
    "    print('CV score for class identity_hate for {} max_depth is {}'.format(value, cv_score))"
   ]
  },
  {
   "cell_type": "code",
   "execution_count": 14,
   "metadata": {},
   "outputs": [
    {
     "name": "stdout",
     "output_type": "stream",
     "text": [
      "CPU times: user 7.13 s, sys: 7.89 ms, total: 7.14 s\n",
      "Wall time: 7.14 s\n",
      "CV score for class identity_hate is 0.9582371790839845\n"
     ]
    }
   ],
   "source": [
    "\n",
    "\n",
    "train_target = X_train\n",
    "#classifier = LogisticRegression(solver='sag')\n",
    "classifier = GradientBoostingRegressor(max_depth=3, n_estimators=100, max_features=10)\n",
    "\n",
    "%time cv_score = np.mean(cross_val_score(classifier, X=train_target, y=train['identity_hate'], cv=3,\\\n",
    "                                   scoring='roc_auc'))\n",
    "print('CV score for class identity_hate is {}'.format(cv_score))\n",
    "\n"
   ]
  },
  {
   "cell_type": "code",
   "execution_count": null,
   "metadata": {
    "collapsed": true
   },
   "outputs": [],
   "source": []
  }
 ],
 "metadata": {
  "kernelspec": {
   "display_name": "Python 3",
   "language": "python",
   "name": "python3"
  },
  "language_info": {
   "codemirror_mode": {
    "name": "ipython",
    "version": 3
   },
   "file_extension": ".py",
   "mimetype": "text/x-python",
   "name": "python",
   "nbconvert_exporter": "python",
   "pygments_lexer": "ipython3",
   "version": "3.5.2"
  }
 },
 "nbformat": 4,
 "nbformat_minor": 2
}
